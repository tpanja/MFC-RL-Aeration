{
 "cells": [
  {
   "cell_type": "code",
   "execution_count": 1,
   "id": "54520634",
   "metadata": {},
   "outputs": [],
   "source": [
    "from gym import Env\n",
    "from gym.spaces import Discrete, Box\n",
    "import numpy as np\n",
    "import random\n",
    "from tensorflow import keras"
   ]
  },
  {
   "cell_type": "code",
   "execution_count": 2,
   "id": "175dead5",
   "metadata": {},
   "outputs": [
    {
     "name": "stdout",
     "output_type": "stream",
     "text": [
      "Server Created\n"
     ]
    }
   ],
   "source": [
    "import comm\n",
    "import time\n",
    "class MFCEnv(Env):\n",
    "    def __init__(self):\n",
    "        # Actions we can take, down, stay, up\n",
    "        self.action_space = Discrete(2)\n",
    "        # Temperature array\n",
    "        self.observation_space = Box(low=np.array([0, 0, 0, 0]), high=np.array([100, 100, 100, 100]), shape=(4,), dtype=np.float32)\n",
    "        # Set start temp\n",
    "        self.state = np.array(comm.get_data())\n",
    "        comm.turn_off(0)\n",
    "        # Time\n",
    "        self.length = 2\n",
    "    def step(self, action):\n",
    "        # Apply action\n",
    "        # 0 -1 = -1 temperature\n",
    "        # 1 -1 = 0 \n",
    "        # 2 -1 = 1 temperature \n",
    "        last_state = self.state\n",
    "        if action == 0:\n",
    "            comm.turn_off(60)\n",
    "        else:\n",
    "            comm.turn_on(60)\n",
    "        time.sleep(60)\n",
    "        self.state = np.array(comm.get_data())\n",
    "        \n",
    "        # Calculate reward\n",
    "        if self.state[0] > last_state[0]:\n",
    "            reward = 1 \n",
    "        else: \n",
    "            reward = -1 \n",
    "        \n",
    "        self.length -= 1\n",
    "        done = False\n",
    "        if self.length == 0:\n",
    "            done = True\n",
    "        \n",
    "        # Apply temperature noise\n",
    "        #self.state += random.randint(-1,1)\n",
    "        # Set placeholder for info\n",
    "        info = {}\n",
    "        \n",
    "        # Return step information\n",
    "        return self.state, reward, done, info\n",
    "\n",
    "    def render(self):\n",
    "        # Implement viz\n",
    "        pass\n",
    "    \n",
    "    def reset(self):\n",
    "        self.state = np.array(comm.get_data())\n",
    "        comm.turn_off(0)\n",
    "        time.sleep(2)\n",
    "        self.length = 5\n",
    "        return self.state"
   ]
  },
  {
   "cell_type": "code",
   "execution_count": 3,
   "id": "de0f6e64",
   "metadata": {},
   "outputs": [
    {
     "name": "stderr",
     "output_type": "stream",
     "text": [
      "c:\\Users\\tanay\\anaconda3\\envs\\mfc\\lib\\site-packages\\gym\\spaces\\box.py:127: UserWarning: \u001b[33mWARN: Box bound precision lowered by casting to float32\u001b[0m\n",
      "  logger.warn(f\"Box bound precision lowered by casting to {self.dtype}\")\n"
     ]
    },
    {
     "name": "stdout",
     "output_type": "stream",
     "text": [
      "Connection from ('192.168.4.150', 45768) has been established fr!\n"
     ]
    }
   ],
   "source": [
    "env = MFCEnv()"
   ]
  },
  {
   "cell_type": "code",
   "execution_count": 4,
   "id": "d477be40",
   "metadata": {},
   "outputs": [
    {
     "data": {
      "text/plain": [
       "array([82.06543 , 70.19154 , 29.2579  , 55.956287], dtype=float32)"
      ]
     },
     "execution_count": 4,
     "metadata": {},
     "output_type": "execute_result"
    }
   ],
   "source": [
    "env.observation_space.sample()"
   ]
  },
  {
   "cell_type": "code",
   "execution_count": 5,
   "id": "3b6a7bb8",
   "metadata": {},
   "outputs": [],
   "source": [
    "import numpy as np\n",
    "from tensorflow.keras.models import Sequential\n",
    "from tensorflow.keras.layers import Dense, Flatten, LSTM\n",
    "from tensorflow.keras.optimizers import Adam"
   ]
  },
  {
   "cell_type": "code",
   "execution_count": 6,
   "id": "506a1443",
   "metadata": {},
   "outputs": [],
   "source": [
    "states = env.observation_space.shape\n",
    "actions = env.action_space.n"
   ]
  },
  {
   "cell_type": "code",
   "execution_count": 7,
   "id": "06df2fe0",
   "metadata": {},
   "outputs": [],
   "source": [
    "def build_model(states, actions):\n",
    "    model = Sequential()    \n",
    "    model.add(LSTM(24, activation='relu', input_shape=(1,4)))\n",
    "    model.add(Dense(24, activation='relu'))\n",
    "    model.add(Dense(24, activation='relu'))\n",
    "    model.add(Dense(actions, activation='linear'))\n",
    "\n",
    "    return model"
   ]
  },
  {
   "cell_type": "code",
   "execution_count": 8,
   "id": "fa2a7e61",
   "metadata": {},
   "outputs": [],
   "source": [
    "from rl.agents import DQNAgent\n",
    "from rl.policy import BoltzmannQPolicy\n",
    "from rl.memory import SequentialMemory\n",
    "\n",
    "model = build_model(states, actions)"
   ]
  },
  {
   "cell_type": "code",
   "execution_count": 9,
   "id": "13336de3",
   "metadata": {},
   "outputs": [],
   "source": [
    "def build_agent(model, actions):\n",
    "    policy = BoltzmannQPolicy()\n",
    "    memory = SequentialMemory(limit=50000, window_length=1)\n",
    "    dqn = DQNAgent(model=model, memory=memory, policy=policy, \n",
    "                  nb_actions=actions, nb_steps_warmup=9, target_model_update=1e-2)\n",
    "    return dqn"
   ]
  },
  {
   "cell_type": "code",
   "execution_count": 10,
   "id": "98c5e66e",
   "metadata": {},
   "outputs": [
    {
     "name": "stdout",
     "output_type": "stream",
     "text": [
      "2\n",
      "Training for 540 steps ...\n",
      "Connection from ('192.168.4.150', 45772) has been established fr!\n",
      "Interval 1 (0 steps performed)\n",
      "WARNING:tensorflow:From c:\\Users\\tanay\\anaconda3\\envs\\mfc\\lib\\site-packages\\tensorflow\\python\\keras\\engine\\training_v1.py:2070: Model.state_updates (from tensorflow.python.keras.engine.training) is deprecated and will be removed in a future version.\n",
      "Instructions for updating:\n",
      "This property should not be used in TensorFlow 2.0, as updates are applied automatically.\n",
      "Sending message...\n",
      "Message sent!\n",
      "Connection from ('192.168.4.150', 45780) has been established fr!\n",
      "  1/540 [..............................] - ETA: 9:02:43 - reward: -1.0000Connection from ('192.168.4.150', 45784) has been established fr!\n",
      "  2/540 [..............................] - ETA: 9:00:36 - reward: 0.0000e+00Sending message...\n",
      "Message sent!\n",
      "Connection from ('192.168.4.150', 45788) has been established fr!\n",
      "  3/540 [..............................] - ETA: 8:59:20 - reward: -0.3333   "
     ]
    }
   ],
   "source": [
    "from tensorflow.keras.optimizers import Adam\n",
    "print(actions)\n",
    "dqn = build_agent(model, actions)\n",
    "dqn.compile(Adam(learning_rate=1e-3), metrics=['mae'])\n",
    "dqn.fit(env, nb_steps=60*9, visualize=False, verbose=1, log_interval=60*9)"
   ]
  },
  {
   "cell_type": "code",
   "execution_count": null,
   "id": "37a4a429",
   "metadata": {},
   "outputs": [],
   "source": [
    "import socket\n",
    "\n",
    "s = socket.socket(socket.AF_INET, socket.SOCK_STREAM)\n",
    "s.connect((socket.gethostname(), 5979))\n",
    "while True:\n",
    "    msg = s.recv(8)\n",
    "    print(msg.decode(\"utf-8\"))"
   ]
  }
 ],
 "metadata": {
  "interpreter": {
   "hash": "c13a37ba27cca83a5dc0fd3d19fb1e9b51286172c02eaa42e2eb2558a2686a2e"
  },
  "kernelspec": {
   "display_name": "Python 3",
   "language": "python",
   "name": "python3"
  },
  "language_info": {
   "codemirror_mode": {
    "name": "ipython",
    "version": 3
   },
   "file_extension": ".py",
   "mimetype": "text/x-python",
   "name": "python",
   "nbconvert_exporter": "python",
   "pygments_lexer": "ipython3",
   "version": "3.7.5"
  }
 },
 "nbformat": 4,
 "nbformat_minor": 5
}
